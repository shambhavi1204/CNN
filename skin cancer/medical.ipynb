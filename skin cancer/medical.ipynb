{
  "nbformat": 4,
  "nbformat_minor": 0,
  "metadata": {
    "colab": {
      "name": "medical.ipynb",
      "provenance": [],
      "collapsed_sections": []
    },
    "kernelspec": {
      "name": "python3",
      "display_name": "Python 3"
    },
    "language_info": {
      "name": "python"
    },
    "accelerator": "GPU"
  },
  "cells": [
    {
      "cell_type": "code",
      "metadata": {
        "colab": {
          "base_uri": "https://localhost:8080/"
        },
        "id": "nkTU1w5_hZYN",
        "outputId": "0126093f-4aee-4f8d-ede9-c3be898dc173"
      },
      "source": [
        "from google.colab import drive\n",
        "drive.mount('/content/drive/')"
      ],
      "execution_count": null,
      "outputs": [
        {
          "output_type": "stream",
          "text": [
            "Mounted at /content/drive/\n"
          ],
          "name": "stdout"
        }
      ]
    },
    {
      "cell_type": "code",
      "metadata": {
        "id": "ElUhWKGX9tC9"
      },
      "source": [
        "import keras\n",
        "import tensorflow as tf\n",
        "from keras.models import Sequential, Model\n",
        "from keras.layers import Dense, Dropout, Flatten, Conv2D, MaxPool2D\n",
        "from keras import backend as K\n",
        "from keras.layers.normalization import BatchNormalization\n",
        "\n",
        "from tensorflow.keras.optimizers import Adam, RMSprop\n",
        "from keras.preprocessing.image import ImageDataGenerator\n",
        "from keras.callbacks import ReduceLROnPlateau\n",
        "from keras.wrappers.scikit_learn import KerasClassifier\n",
        "from keras.applications.resnet50 import ResNet50\n",
        "from keras import backend as K\n",
        "from tensorflow.keras.callbacks import ModelCheckpoint, ReduceLROnPlateau"
      ],
      "execution_count": null,
      "outputs": []
    },
    {
      "cell_type": "code",
      "metadata": {
        "colab": {
          "base_uri": "https://localhost:8080/"
        },
        "id": "dQyGaZ1990o8",
        "outputId": "f28105a9-596a-402d-ae47-49f76eef1ca6"
      },
      "source": [
        "train_data=tf.keras.preprocessing.image_dataset_from_directory('/content/drive/MyDrive/chest',image_size=(224,224),color_mode=\"grayscale\",\n",
        "    batch_size=24,\n",
        "    shuffle=True,\n",
        "    seed=123)\n"
      ],
      "execution_count": null,
      "outputs": [
        {
          "output_type": "stream",
          "text": [
            "Found 324 files belonging to 2 classes.\n"
          ],
          "name": "stdout"
        }
      ]
    },
    {
      "cell_type": "code",
      "metadata": {
        "id": "_rRWbm30-EAv"
      },
      "source": [
        "def conv2d_block(input_tensor,n_filters,kernel_size=3):\n",
        "  x=input_tensor\n",
        "  for i in range(2):\n",
        "    x=tf.keras.layers.Conv2D(filters=n_filters,kernel_size=(kernel_size,kernel_size),padding='same')(x)\n",
        "    x=tf.keras.layers.Activation('relu')(x)\n",
        "  return x\n",
        "def encoder_block(inputs,n_filter,pool_size,dropout):\n",
        "  f=conv2d_block(input_tensor=inputs,n_filters=n_filter)\n",
        "  p=tf.keras.layers.MaxPooling2D(pool_size)(f)\n",
        "  p=tf.keras.layers.Dropout(dropout)(p)\n",
        "  return f,p\n",
        "def encoder(inputs):\n",
        "  f1,p1=encoder_block(inputs,n_filter=64,pool_size=(2,2),dropout=0.3)\n",
        "  f2,p2=encoder_block(p1,n_filter=128,pool_size=(2,2),dropout=0.3)\n",
        "  f3,p3=encoder_block(p2,n_filter=256,pool_size=(2,2),dropout=0.3)\n",
        "  f4,p4=encoder_block(p3,n_filter=512,pool_size=(2,2),dropout=0.3)\n",
        "  return p4,(f1,f2,f3,f4)\n",
        "def bottleneck(inputs):\n",
        "  bottle_neck=conv2d_block(inputs,n_filters=1024)\n",
        "  return bottle_neck\n",
        "def decoder_block(inputs,conv_output,n_filter,kernel_size,strides,dropout):\n",
        "  u=tf.keras.layers.Conv2DTranspose(n_filter,kernel_size,strides=strides,padding='same')(inputs)\n",
        "  c=tf.keras.layers.concatenate([u,conv_output])\n",
        "  c = tf.keras.layers.Dropout(dropout)(c)\n",
        "  c=conv2d_block(c,n_filter,kernel_size=3)\n",
        "  return c\n",
        "def decoder(inputs,convs):\n",
        "  f1,f2,f3,f4=convs\n",
        "  c6=decoder_block(inputs,f4,n_filter=512,kernel_size=(3,3),strides=(2,2),dropout=0.3)\n",
        "  c7=decoder_block(c6,f3,n_filter=256,kernel_size=(3,3),strides=(2,2),dropout=0.3)\n",
        "  c8=decoder_block(c7,f2,n_filter=128,kernel_size=(3,3),strides=(2,2),dropout=0.3)\n",
        "  c9=decoder_block(c8,f1,n_filter=64,kernel_size=(3,3),strides=(2,2),dropout=0.3)\n",
        "  outputs=tf.keras.layers.Conv2D(32,kernel_size=(1,1),activation='relu')(c9)\n",
        "  outputs=tf.keras.layers.Flatten()(outputs)\n",
        "  #outputs=tf.keras.layers.Dense(16, activation='relu', bias_regularizer=tf.keras.regularizers.L2(1e-4))(outputs)\n",
        "  outputs=tf.keras.layers.Dense(1,activation='sigmoid',bias_regularizer=tf.keras.regularizers.L2(1e-4))(outputs)\n",
        "  return outputs\n",
        "def unet():\n",
        "  inputs=tf.keras.layers.Input(shape=(224,224,1,))\n",
        "  encoder_output,convs=encoder(inputs)\n",
        "  bottle_neck=bottleneck(encoder_output)\n",
        "  outputs=decoder(bottle_neck,convs)\n",
        "  model=tf.keras.Model(inputs=inputs,outputs=outputs)\n",
        "  return model\n",
        "def main():\n",
        "  model = unet()\n",
        "  opt = Adam(lr=0.001, decay=1e-6)\n",
        "  model.compile(optimizer=opt, loss='binary_crossentropy',metrics=['accuracy'])\n",
        "  batch_size=24\n",
        "  \n",
        "  model.fit(x=train_data,epochs=20)\n",
        "  model.save('chest.h5')\n",
        "  model.summary()"
      ],
      "execution_count": null,
      "outputs": []
    },
    {
      "cell_type": "code",
      "metadata": {
        "colab": {
          "base_uri": "https://localhost:8080/"
        },
        "id": "aVicaT4SrV_8",
        "outputId": "95038cb9-86cc-4e06-d0c9-8bf74489df13"
      },
      "source": [
        "main()"
      ],
      "execution_count": null,
      "outputs": [
        {
          "output_type": "stream",
          "text": [
            "/usr/local/lib/python3.7/dist-packages/tensorflow/python/keras/optimizer_v2/optimizer_v2.py:375: UserWarning: The `lr` argument is deprecated, use `learning_rate` instead.\n",
            "  \"The `lr` argument is deprecated, use `learning_rate` instead.\")\n"
          ],
          "name": "stderr"
        },
        {
          "output_type": "stream",
          "text": [
            "Epoch 1/20\n",
            "14/14 [==============================] - 117s 3s/step - loss: 301.9738 - accuracy: 0.4599\n",
            "Epoch 2/20\n",
            "14/14 [==============================] - 14s 960ms/step - loss: 9.0184 - accuracy: 0.6944\n",
            "Epoch 3/20\n",
            "14/14 [==============================] - 14s 965ms/step - loss: 2.8378 - accuracy: 0.8210\n",
            "Epoch 4/20\n",
            "14/14 [==============================] - 14s 973ms/step - loss: 0.6199 - accuracy: 0.8796\n",
            "Epoch 5/20\n",
            "14/14 [==============================] - 14s 985ms/step - loss: 0.3628 - accuracy: 0.8827\n",
            "Epoch 6/20\n",
            "14/14 [==============================] - 14s 994ms/step - loss: 0.2991 - accuracy: 0.8858\n",
            "Epoch 7/20\n",
            "14/14 [==============================] - 14s 1s/step - loss: 0.2291 - accuracy: 0.9012\n",
            "Epoch 8/20\n",
            "14/14 [==============================] - 14s 1s/step - loss: 0.2016 - accuracy: 0.9198\n",
            "Epoch 9/20\n",
            "14/14 [==============================] - 14s 1s/step - loss: 0.1590 - accuracy: 0.9414\n",
            "Epoch 10/20\n",
            "14/14 [==============================] - 15s 1s/step - loss: 0.1615 - accuracy: 0.9383\n",
            "Epoch 11/20\n",
            "14/14 [==============================] - 15s 1s/step - loss: 0.0897 - accuracy: 0.9846\n",
            "Epoch 12/20\n",
            "14/14 [==============================] - 15s 1s/step - loss: 0.1429 - accuracy: 0.9506\n",
            "Epoch 13/20\n",
            "14/14 [==============================] - 15s 1s/step - loss: 0.1418 - accuracy: 0.9414\n",
            "Epoch 14/20\n",
            "14/14 [==============================] - 15s 1s/step - loss: 0.0686 - accuracy: 0.9815\n",
            "Epoch 15/20\n",
            "14/14 [==============================] - 15s 1s/step - loss: 0.0220 - accuracy: 0.9938\n",
            "Epoch 16/20\n",
            "14/14 [==============================] - 15s 1s/step - loss: 0.0072 - accuracy: 1.0000\n",
            "Epoch 17/20\n",
            "14/14 [==============================] - 15s 1s/step - loss: 0.0022 - accuracy: 1.0000\n",
            "Epoch 18/20\n",
            "14/14 [==============================] - 15s 1s/step - loss: 0.0013 - accuracy: 1.0000\n",
            "Epoch 19/20\n",
            "14/14 [==============================] - 15s 1s/step - loss: 9.3104e-04 - accuracy: 1.0000\n",
            "Epoch 20/20\n",
            "14/14 [==============================] - 15s 1s/step - loss: 9.3838e-04 - accuracy: 1.0000\n",
            "Model: \"model\"\n",
            "__________________________________________________________________________________________________\n",
            "Layer (type)                    Output Shape         Param #     Connected to                     \n",
            "==================================================================================================\n",
            "input_1 (InputLayer)            [(None, 224, 224, 1) 0                                            \n",
            "__________________________________________________________________________________________________\n",
            "conv2d (Conv2D)                 (None, 224, 224, 64) 640         input_1[0][0]                    \n",
            "__________________________________________________________________________________________________\n",
            "activation (Activation)         (None, 224, 224, 64) 0           conv2d[0][0]                     \n",
            "__________________________________________________________________________________________________\n",
            "conv2d_1 (Conv2D)               (None, 224, 224, 64) 36928       activation[0][0]                 \n",
            "__________________________________________________________________________________________________\n",
            "activation_1 (Activation)       (None, 224, 224, 64) 0           conv2d_1[0][0]                   \n",
            "__________________________________________________________________________________________________\n",
            "max_pooling2d (MaxPooling2D)    (None, 112, 112, 64) 0           activation_1[0][0]               \n",
            "__________________________________________________________________________________________________\n",
            "dropout (Dropout)               (None, 112, 112, 64) 0           max_pooling2d[0][0]              \n",
            "__________________________________________________________________________________________________\n",
            "conv2d_2 (Conv2D)               (None, 112, 112, 128 73856       dropout[0][0]                    \n",
            "__________________________________________________________________________________________________\n",
            "activation_2 (Activation)       (None, 112, 112, 128 0           conv2d_2[0][0]                   \n",
            "__________________________________________________________________________________________________\n",
            "conv2d_3 (Conv2D)               (None, 112, 112, 128 147584      activation_2[0][0]               \n",
            "__________________________________________________________________________________________________\n",
            "activation_3 (Activation)       (None, 112, 112, 128 0           conv2d_3[0][0]                   \n",
            "__________________________________________________________________________________________________\n",
            "max_pooling2d_1 (MaxPooling2D)  (None, 56, 56, 128)  0           activation_3[0][0]               \n",
            "__________________________________________________________________________________________________\n",
            "dropout_1 (Dropout)             (None, 56, 56, 128)  0           max_pooling2d_1[0][0]            \n",
            "__________________________________________________________________________________________________\n",
            "conv2d_4 (Conv2D)               (None, 56, 56, 256)  295168      dropout_1[0][0]                  \n",
            "__________________________________________________________________________________________________\n",
            "activation_4 (Activation)       (None, 56, 56, 256)  0           conv2d_4[0][0]                   \n",
            "__________________________________________________________________________________________________\n",
            "conv2d_5 (Conv2D)               (None, 56, 56, 256)  590080      activation_4[0][0]               \n",
            "__________________________________________________________________________________________________\n",
            "activation_5 (Activation)       (None, 56, 56, 256)  0           conv2d_5[0][0]                   \n",
            "__________________________________________________________________________________________________\n",
            "max_pooling2d_2 (MaxPooling2D)  (None, 28, 28, 256)  0           activation_5[0][0]               \n",
            "__________________________________________________________________________________________________\n",
            "dropout_2 (Dropout)             (None, 28, 28, 256)  0           max_pooling2d_2[0][0]            \n",
            "__________________________________________________________________________________________________\n",
            "conv2d_6 (Conv2D)               (None, 28, 28, 512)  1180160     dropout_2[0][0]                  \n",
            "__________________________________________________________________________________________________\n",
            "activation_6 (Activation)       (None, 28, 28, 512)  0           conv2d_6[0][0]                   \n",
            "__________________________________________________________________________________________________\n",
            "conv2d_7 (Conv2D)               (None, 28, 28, 512)  2359808     activation_6[0][0]               \n",
            "__________________________________________________________________________________________________\n",
            "activation_7 (Activation)       (None, 28, 28, 512)  0           conv2d_7[0][0]                   \n",
            "__________________________________________________________________________________________________\n",
            "max_pooling2d_3 (MaxPooling2D)  (None, 14, 14, 512)  0           activation_7[0][0]               \n",
            "__________________________________________________________________________________________________\n",
            "dropout_3 (Dropout)             (None, 14, 14, 512)  0           max_pooling2d_3[0][0]            \n",
            "__________________________________________________________________________________________________\n",
            "conv2d_8 (Conv2D)               (None, 14, 14, 1024) 4719616     dropout_3[0][0]                  \n",
            "__________________________________________________________________________________________________\n",
            "activation_8 (Activation)       (None, 14, 14, 1024) 0           conv2d_8[0][0]                   \n",
            "__________________________________________________________________________________________________\n",
            "conv2d_9 (Conv2D)               (None, 14, 14, 1024) 9438208     activation_8[0][0]               \n",
            "__________________________________________________________________________________________________\n",
            "activation_9 (Activation)       (None, 14, 14, 1024) 0           conv2d_9[0][0]                   \n",
            "__________________________________________________________________________________________________\n",
            "conv2d_transpose (Conv2DTranspo (None, 28, 28, 512)  4719104     activation_9[0][0]               \n",
            "__________________________________________________________________________________________________\n",
            "concatenate (Concatenate)       (None, 28, 28, 1024) 0           conv2d_transpose[0][0]           \n",
            "                                                                 activation_7[0][0]               \n",
            "__________________________________________________________________________________________________\n",
            "dropout_4 (Dropout)             (None, 28, 28, 1024) 0           concatenate[0][0]                \n",
            "__________________________________________________________________________________________________\n",
            "conv2d_10 (Conv2D)              (None, 28, 28, 512)  4719104     dropout_4[0][0]                  \n",
            "__________________________________________________________________________________________________\n",
            "activation_10 (Activation)      (None, 28, 28, 512)  0           conv2d_10[0][0]                  \n",
            "__________________________________________________________________________________________________\n",
            "conv2d_11 (Conv2D)              (None, 28, 28, 512)  2359808     activation_10[0][0]              \n",
            "__________________________________________________________________________________________________\n",
            "activation_11 (Activation)      (None, 28, 28, 512)  0           conv2d_11[0][0]                  \n",
            "__________________________________________________________________________________________________\n",
            "conv2d_transpose_1 (Conv2DTrans (None, 56, 56, 256)  1179904     activation_11[0][0]              \n",
            "__________________________________________________________________________________________________\n",
            "concatenate_1 (Concatenate)     (None, 56, 56, 512)  0           conv2d_transpose_1[0][0]         \n",
            "                                                                 activation_5[0][0]               \n",
            "__________________________________________________________________________________________________\n",
            "dropout_5 (Dropout)             (None, 56, 56, 512)  0           concatenate_1[0][0]              \n",
            "__________________________________________________________________________________________________\n",
            "conv2d_12 (Conv2D)              (None, 56, 56, 256)  1179904     dropout_5[0][0]                  \n",
            "__________________________________________________________________________________________________\n",
            "activation_12 (Activation)      (None, 56, 56, 256)  0           conv2d_12[0][0]                  \n",
            "__________________________________________________________________________________________________\n",
            "conv2d_13 (Conv2D)              (None, 56, 56, 256)  590080      activation_12[0][0]              \n",
            "__________________________________________________________________________________________________\n",
            "activation_13 (Activation)      (None, 56, 56, 256)  0           conv2d_13[0][0]                  \n",
            "__________________________________________________________________________________________________\n",
            "conv2d_transpose_2 (Conv2DTrans (None, 112, 112, 128 295040      activation_13[0][0]              \n",
            "__________________________________________________________________________________________________\n",
            "concatenate_2 (Concatenate)     (None, 112, 112, 256 0           conv2d_transpose_2[0][0]         \n",
            "                                                                 activation_3[0][0]               \n",
            "__________________________________________________________________________________________________\n",
            "dropout_6 (Dropout)             (None, 112, 112, 256 0           concatenate_2[0][0]              \n",
            "__________________________________________________________________________________________________\n",
            "conv2d_14 (Conv2D)              (None, 112, 112, 128 295040      dropout_6[0][0]                  \n",
            "__________________________________________________________________________________________________\n",
            "activation_14 (Activation)      (None, 112, 112, 128 0           conv2d_14[0][0]                  \n",
            "__________________________________________________________________________________________________\n",
            "conv2d_15 (Conv2D)              (None, 112, 112, 128 147584      activation_14[0][0]              \n",
            "__________________________________________________________________________________________________\n",
            "activation_15 (Activation)      (None, 112, 112, 128 0           conv2d_15[0][0]                  \n",
            "__________________________________________________________________________________________________\n",
            "conv2d_transpose_3 (Conv2DTrans (None, 224, 224, 64) 73792       activation_15[0][0]              \n",
            "__________________________________________________________________________________________________\n",
            "concatenate_3 (Concatenate)     (None, 224, 224, 128 0           conv2d_transpose_3[0][0]         \n",
            "                                                                 activation_1[0][0]               \n",
            "__________________________________________________________________________________________________\n",
            "dropout_7 (Dropout)             (None, 224, 224, 128 0           concatenate_3[0][0]              \n",
            "__________________________________________________________________________________________________\n",
            "conv2d_16 (Conv2D)              (None, 224, 224, 64) 73792       dropout_7[0][0]                  \n",
            "__________________________________________________________________________________________________\n",
            "activation_16 (Activation)      (None, 224, 224, 64) 0           conv2d_16[0][0]                  \n",
            "__________________________________________________________________________________________________\n",
            "conv2d_17 (Conv2D)              (None, 224, 224, 64) 36928       activation_16[0][0]              \n",
            "__________________________________________________________________________________________________\n",
            "activation_17 (Activation)      (None, 224, 224, 64) 0           conv2d_17[0][0]                  \n",
            "__________________________________________________________________________________________________\n",
            "conv2d_18 (Conv2D)              (None, 224, 224, 32) 2080        activation_17[0][0]              \n",
            "__________________________________________________________________________________________________\n",
            "flatten (Flatten)               (None, 1605632)      0           conv2d_18[0][0]                  \n",
            "__________________________________________________________________________________________________\n",
            "dense (Dense)                   (None, 1)            1605633     flatten[0][0]                    \n",
            "==================================================================================================\n",
            "Total params: 36,119,841\n",
            "Trainable params: 36,119,841\n",
            "Non-trainable params: 0\n",
            "__________________________________________________________________________________________________\n"
          ],
          "name": "stdout"
        }
      ]
    },
    {
      "cell_type": "code",
      "metadata": {
        "id": "IokPrptttPQn"
      },
      "source": [
        "from keras.models import load_model\n",
        "model = load_model('/content/chest.h5')\n",
        "import cv2\n",
        "import numpy as np\n",
        "from tensorflow.keras.preprocessing import image\n",
        "\n",
        "img = image.load_img('/content/drive/MyDrive/download (1).jpg', target_size=(224,224),color_mode='grayscale')\n",
        "#img = PIL.Image.open(\"/content/drive/MyDrive/download (1).jpg\")\n",
        "#newsize = (224, 224)\n",
        "#image = cv2.resize(img, (224,224))\n",
        "#image = np.asarray(image).reshape(-1,224,224,1)\n",
        "#image = image[None,:,:,1]\n",
        "#img = np.asarray(img).reshape(-1,224,224,1)\n",
        "img = image.img_to_array(img)\n",
        "prediction = model.predict(img)"
      ],
      "execution_count": null,
      "outputs": []
    },
    {
      "cell_type": "code",
      "metadata": {
        "colab": {
          "base_uri": "https://localhost:8080/"
        },
        "id": "cVS30L3K1J8d",
        "outputId": "36ce6c86-edd0-4a06-da8f-cd4bb7574dd7"
      },
      "source": [
        "prediction"
      ],
      "execution_count": null,
      "outputs": [
        {
          "output_type": "execute_result",
          "data": {
            "text/plain": [
              "array([[2.7531520e-08],\n",
              "       [1.4734665e-03],\n",
              "       [1.3023447e-03]], dtype=float32)"
            ]
          },
          "metadata": {
            "tags": []
          },
          "execution_count": 27
        }
      ]
    }
  ]
}