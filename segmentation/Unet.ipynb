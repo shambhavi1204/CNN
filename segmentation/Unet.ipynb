{
  "nbformat": 4,
  "nbformat_minor": 0,
  "metadata": {
    "colab": {
      "name": "Unet.ipynb",
      "provenance": []
    },
    "kernelspec": {
      "name": "python3",
      "display_name": "Python 3"
    },
    "language_info": {
      "name": "python"
    }
  },
  "cells": [
    {
      "cell_type": "code",
      "metadata": {
        "id": "nrV-5NgzylUI"
      },
      "source": [
        "import numpy as np\n",
        "from sklearn.utils import shuffle\n",
        "from sklearn.model_selection import train_test_split\n",
        "from keras.models import Sequential\n",
        "from keras.layers import Activation, Dropout, UpSampling2D\n",
        "from keras.layers import Conv2DTranspose, Conv2D, MaxPooling2D\n",
        "from tensorflow.keras.layers import BatchNormalization\n",
        "from keras.preprocessing.image import ImageDataGenerator\n",
        "from keras import regularizers\n",
        "import tensorflow as tf\n",
        "import matplotlib.pyplot as plt\n",
        "import numpy as np\n"
      ],
      "execution_count": null,
      "outputs": []
    },
    {
      "cell_type": "code",
      "metadata": {
        "colab": {
          "base_uri": "https://localhost:8080/"
        },
        "id": "V0T6Kh044XyX",
        "outputId": "9480b3b9-af9d-46eb-8a48-005394333b62"
      },
      "source": [
        "from google.colab import drive\n",
        "drive.mount('/content/drive')"
      ],
      "execution_count": null,
      "outputs": [
        {
          "output_type": "stream",
          "name": "stdout",
          "text": [
            "Mounted at /content/drive\n"
          ]
        }
      ]
    },
    {
      "cell_type": "code",
      "metadata": {
        "colab": {
          "base_uri": "https://localhost:8080/"
        },
        "id": "d3rv5djs6E0E",
        "outputId": "a91a9d25-2e84-43e7-e428-0c62c76f8c39"
      },
      "source": [
        "data = '/content/drive/MyDrive/Pic'\n",
        "labels = '/content/drive/MyDrive/Color_label'\n",
        "\n",
        "\n",
        "from PIL import Image\n",
        "import os, os.path\n",
        "\n",
        "imgs = []\n",
        "path = \"/content/drive/MyDrive/Pic\"\n",
        "valid_images = [\".jpg\",\".gif\",\".png\",\".tga\"]\n",
        "for f in os.listdir(path):\n",
        "    imgs.append(Image.open(os.path.join(path,f)))\n",
        "\n",
        "\n",
        "labels = []\n",
        "path = \"/content/drive/MyDrive/Color_label\"\n",
        "valid_images = [\".jpg\",\".gif\",\".png\",\".tga\"]\n",
        "for f in os.listdir(path):\n",
        "    labels.append(Image.open(os.path.join(path,f)))\n",
        "\n",
        "\n",
        "print()"
      ],
      "execution_count": null,
      "outputs": [
        {
          "output_type": "stream",
          "name": "stdout",
          "text": [
            "\n"
          ]
        }
      ]
    },
    {
      "cell_type": "code",
      "metadata": {
        "colab": {
          "base_uri": "https://localhost:8080/"
        },
        "id": "LG4keXboG9qV",
        "outputId": "7d47cf91-c28d-4b11-d074-c5dc2153e18e"
      },
      "source": [
        "import cv2\n",
        "import glob\n",
        "import numpy as np\n",
        "\n",
        "X_data = []\n",
        "files = glob.glob (\"/content/drive/MyDrive/Pic/*.png\")\n",
        "for myFile in files:\n",
        "    print(myFile)\n",
        "    image = cv2.imread (myFile)\n",
        "    X_data.append (image)\n",
        "\n",
        "print('X_data shape:', np.array(X_data).shape)\n",
        "\n"
      ],
      "execution_count": null,
      "outputs": [
        {
          "output_type": "stream",
          "name": "stdout",
          "text": [
            "/content/drive/MyDrive/Pic/mexico-earthquake_00000132_post_disaster.png\n",
            "/content/drive/MyDrive/Pic/mexico-earthquake_00000140_post_disaster.png\n",
            "/content/drive/MyDrive/Pic/mexico-earthquake_00000186_post_disaster.png\n",
            "/content/drive/MyDrive/Pic/mexico-earthquake_00000030_post_disaster.png\n",
            "/content/drive/MyDrive/Pic/mexico-earthquake_00000129_post_disaster.png\n",
            "/content/drive/MyDrive/Pic/mexico-earthquake_00000160_post_disaster.png\n",
            "/content/drive/MyDrive/Pic/mexico-earthquake_00000070_post_disaster.png\n",
            "/content/drive/MyDrive/Pic/mexico-earthquake_00000192_post_disaster.png\n",
            "/content/drive/MyDrive/Pic/mexico-earthquake_00000142_post_disaster.png\n",
            "/content/drive/MyDrive/Pic/mexico-earthquake_00000011_post_disaster.png\n",
            "/content/drive/MyDrive/Pic/mexico-earthquake_00000114_post_disaster.png\n",
            "/content/drive/MyDrive/Pic/mexico-earthquake_00000184_post_disaster.png\n",
            "/content/drive/MyDrive/Pic/mexico-earthquake_00000173_post_disaster.png\n",
            "/content/drive/MyDrive/Pic/mexico-earthquake_00000007_post_disaster.png\n",
            "/content/drive/MyDrive/Pic/mexico-earthquake_00000155_post_disaster.png\n",
            "/content/drive/MyDrive/Pic/mexico-earthquake_00000171_post_disaster.png\n",
            "/content/drive/MyDrive/Pic/mexico-earthquake_00000143_post_disaster.png\n",
            "/content/drive/MyDrive/Pic/mexico-earthquake_00000052_post_disaster.png\n",
            "/content/drive/MyDrive/Pic/mexico-earthquake_00000102_post_disaster.png\n",
            "/content/drive/MyDrive/Pic/mexico-earthquake_00000089_post_disaster.png\n",
            "/content/drive/MyDrive/Pic/mexico-earthquake_00000053_post_disaster.png\n",
            "/content/drive/MyDrive/Pic/mexico-earthquake_00000151_post_disaster.png\n",
            "/content/drive/MyDrive/Pic/mexico-earthquake_00000126_post_disaster.png\n",
            "/content/drive/MyDrive/Pic/mexico-earthquake_00000103_post_disaster.png\n",
            "/content/drive/MyDrive/Pic/mexico-earthquake_00000153_post_disaster.png\n",
            "/content/drive/MyDrive/Pic/mexico-earthquake_00000172_post_disaster.png\n",
            "/content/drive/MyDrive/Pic/mexico-earthquake_00000093_post_disaster.png\n",
            "/content/drive/MyDrive/Pic/mexico-earthquake_00000115_post_disaster.png\n",
            "/content/drive/MyDrive/Pic/mexico-earthquake_00000042_post_disaster.png\n",
            "/content/drive/MyDrive/Pic/mexico-earthquake_00000098_post_disaster.png\n",
            "/content/drive/MyDrive/Pic/mexico-earthquake_00000024_post_disaster.png\n",
            "/content/drive/MyDrive/Pic/mexico-earthquake_00000118_post_disaster.png\n",
            "/content/drive/MyDrive/Pic/mexico-earthquake_00000125_post_disaster.png\n",
            "/content/drive/MyDrive/Pic/mexico-earthquake_00000176_post_disaster.png\n",
            "/content/drive/MyDrive/Pic/mexico-earthquake_00000072_post_disaster.png\n",
            "/content/drive/MyDrive/Pic/mexico-earthquake_00000047_post_disaster.png\n",
            "/content/drive/MyDrive/Pic/mexico-earthquake_00000015_post_disaster.png\n",
            "/content/drive/MyDrive/Pic/mexico-earthquake_00000152_post_disaster.png\n",
            "/content/drive/MyDrive/Pic/mexico-earthquake_00000003_post_disaster.png\n",
            "/content/drive/MyDrive/Pic/mexico-earthquake_00000108_post_disaster.png\n",
            "/content/drive/MyDrive/Pic/mexico-earthquake_00000084_post_disaster.png\n",
            "/content/drive/MyDrive/Pic/mexico-earthquake_00000087_post_disaster.png\n",
            "/content/drive/MyDrive/Pic/mexico-earthquake_00000096_post_disaster.png\n",
            "/content/drive/MyDrive/Pic/mexico-earthquake_00000055_post_disaster.png\n",
            "/content/drive/MyDrive/Pic/mexico-earthquake_00000164_post_disaster.png\n",
            "/content/drive/MyDrive/Pic/mexico-earthquake_00000107_post_disaster.png\n",
            "/content/drive/MyDrive/Pic/mexico-earthquake_00000158_post_disaster.png\n",
            "/content/drive/MyDrive/Pic/mexico-earthquake_00000085_post_disaster.png\n",
            "/content/drive/MyDrive/Pic/mexico-earthquake_00000079_post_disaster.png\n",
            "/content/drive/MyDrive/Pic/mexico-earthquake_00000037_post_disaster.png\n",
            "/content/drive/MyDrive/Pic/mexico-earthquake_00000034_post_disaster.png\n",
            "/content/drive/MyDrive/Pic/mexico-earthquake_00000048_post_disaster.png\n",
            "/content/drive/MyDrive/Pic/mexico-earthquake_00000092_post_disaster.png\n",
            "/content/drive/MyDrive/Pic/mexico-earthquake_00000001_post_disaster.png\n",
            "/content/drive/MyDrive/Pic/mexico-earthquake_00000031_post_disaster.png\n",
            "/content/drive/MyDrive/Pic/mexico-earthquake_00000150_post_disaster.png\n",
            "/content/drive/MyDrive/Pic/mexico-earthquake_00000009_post_disaster.png\n",
            "/content/drive/MyDrive/Pic/mexico-earthquake_00000067_post_disaster.png\n",
            "/content/drive/MyDrive/Pic/mexico-earthquake_00000111_post_disaster.png\n",
            "/content/drive/MyDrive/Pic/mexico-earthquake_00000191_post_disaster.png\n",
            "/content/drive/MyDrive/Pic/mexico-earthquake_00000018_post_disaster.png\n",
            "/content/drive/MyDrive/Pic/mexico-earthquake_00000039_post_disaster.png\n",
            "/content/drive/MyDrive/Pic/mexico-earthquake_00000002_post_disaster.png\n",
            "/content/drive/MyDrive/Pic/mexico-earthquake_00000004_post_disaster.png\n",
            "/content/drive/MyDrive/Pic/mexico-earthquake_00000083_post_disaster.png\n",
            "/content/drive/MyDrive/Pic/mexico-earthquake_00000059_post_disaster.png\n",
            "/content/drive/MyDrive/Pic/mexico-earthquake_00000148_post_disaster.png\n",
            "/content/drive/MyDrive/Pic/mexico-earthquake_00000043_post_disaster.png\n",
            "/content/drive/MyDrive/Pic/mexico-earthquake_00000119_post_disaster.png\n",
            "/content/drive/MyDrive/Pic/mexico-earthquake_00000136_post_disaster.png\n",
            "/content/drive/MyDrive/Pic/mexico-earthquake_00000019_post_disaster.png\n",
            "/content/drive/MyDrive/Pic/mexico-earthquake_00000141_post_disaster.png\n",
            "/content/drive/MyDrive/Pic/mexico-earthquake_00000110_post_disaster.png\n",
            "/content/drive/MyDrive/Pic/mexico-earthquake_00000057_post_disaster.png\n",
            "/content/drive/MyDrive/Pic/mexico-earthquake_00000177_post_disaster.png\n",
            "/content/drive/MyDrive/Pic/mexico-earthquake_00000166_post_disaster.png\n",
            "/content/drive/MyDrive/Pic/mexico-earthquake_00000066_post_disaster.png\n",
            "/content/drive/MyDrive/Pic/mexico-earthquake_00000033_post_disaster.png\n",
            "/content/drive/MyDrive/Pic/mexico-earthquake_00000100_post_disaster.png\n",
            "/content/drive/MyDrive/Pic/mexico-earthquake_00000154_post_disaster.png\n",
            "/content/drive/MyDrive/Pic/mexico-earthquake_00000013_post_disaster.png\n",
            "/content/drive/MyDrive/Pic/mexico-earthquake_00000128_post_disaster.png\n",
            "/content/drive/MyDrive/Pic/mexico-earthquake_00000075_post_disaster.png\n",
            "/content/drive/MyDrive/Pic/mexico-earthquake_00000146_post_disaster.png\n",
            "/content/drive/MyDrive/Pic/mexico-earthquake_00000023_post_disaster.png\n",
            "/content/drive/MyDrive/Pic/mexico-earthquake_00000021_post_disaster.png\n",
            "/content/drive/MyDrive/Pic/mexico-earthquake_00000144_post_disaster.png\n",
            "/content/drive/MyDrive/Pic/mexico-earthquake_00000088_post_disaster.png\n",
            "/content/drive/MyDrive/Pic/mexico-earthquake_00000020_post_disaster.png\n",
            "/content/drive/MyDrive/Pic/mexico-earthquake_00000041_post_disaster.png\n",
            "/content/drive/MyDrive/Pic/mexico-earthquake_00000017_post_disaster.png\n",
            "/content/drive/MyDrive/Pic/mexico-earthquake_00000104_post_disaster.png\n",
            "/content/drive/MyDrive/Pic/mexico-earthquake_00000168_post_disaster.png\n",
            "/content/drive/MyDrive/Pic/mexico-earthquake_00000049_post_disaster.png\n",
            "/content/drive/MyDrive/Pic/mexico-earthquake_00000078_post_disaster.png\n",
            "/content/drive/MyDrive/Pic/mexico-earthquake_00000008_post_disaster.png\n",
            "/content/drive/MyDrive/Pic/mexico-earthquake_00000159_post_disaster.png\n",
            "/content/drive/MyDrive/Pic/mexico-earthquake_00000074_post_disaster.png\n",
            "/content/drive/MyDrive/Pic/mexico-earthquake_00000120_post_disaster.png\n",
            "/content/drive/MyDrive/Pic/mexico-earthquake_00000138_post_disaster.png\n",
            "/content/drive/MyDrive/Pic/mexico-earthquake_00000105_post_disaster.png\n",
            "/content/drive/MyDrive/Pic/mexico-earthquake_00000029_post_disaster.png\n",
            "/content/drive/MyDrive/Pic/mexico-earthquake_00000040_post_disaster.png\n",
            "/content/drive/MyDrive/Pic/mexico-earthquake_00000044_post_disaster.png\n",
            "/content/drive/MyDrive/Pic/mexico-earthquake_00000181_post_disaster.png\n",
            "/content/drive/MyDrive/Pic/mexico-earthquake_00000112_post_disaster.png\n",
            "/content/drive/MyDrive/Pic/mexico-earthquake_00000086_post_disaster.png\n",
            "/content/drive/MyDrive/Pic/mexico-earthquake_00000127_post_disaster.png\n",
            "/content/drive/MyDrive/Pic/mexico-earthquake_00000122_post_disaster.png\n",
            "/content/drive/MyDrive/Pic/mexico-earthquake_00000064_post_disaster.png\n",
            "/content/drive/MyDrive/Pic/mexico-earthquake_00000182_post_disaster.png\n",
            "/content/drive/MyDrive/Pic/mexico-earthquake_00000035_post_disaster.png\n",
            "/content/drive/MyDrive/Pic/mexico-earthquake_00000179_post_disaster.png\n",
            "/content/drive/MyDrive/Pic/mexico-earthquake_00000027_post_disaster.png\n",
            "/content/drive/MyDrive/Pic/mexico-earthquake_00000101_post_disaster.png\n",
            "/content/drive/MyDrive/Pic/mexico-earthquake_00000185_post_disaster.png\n",
            "/content/drive/MyDrive/Pic/mexico-earthquake_00000046_post_disaster.png\n",
            "X_data shape: (117, 288, 432, 3)\n"
          ]
        }
      ]
    },
    {
      "cell_type": "code",
      "metadata": {
        "colab": {
          "base_uri": "https://localhost:8080/"
        },
        "id": "kok2p-g0J-O9",
        "outputId": "ad135eb3-6c78-4705-a771-e5954106c4c6"
      },
      "source": [
        ""
      ],
      "execution_count": null,
      "outputs": [
        {
          "output_type": "stream",
          "name": "stdout",
          "text": [
            "<class 'numpy.ndarray'>\n"
          ]
        }
      ]
    },
    {
      "cell_type": "markdown",
      "metadata": {
        "id": "q9_wikSY6-M1"
      },
      "source": [
        "# New section"
      ]
    },
    {
      "cell_type": "code",
      "metadata": {
        "id": "PjksiEqEziCH"
      },
      "source": [
        "def conv2d_block(input_tensor,n_filters,kernel_size=3):\n",
        "  x=input_tensor\n",
        "  for i in range(2):\n",
        "    x=tf.keras.layers.Conv2D(filters=n_filters,kernel_size=(kernel_size,kernel_size),padding='same')(x)\n",
        "    x=tf.keras.layers.Activation('relu')(x)\n",
        "  return x"
      ],
      "execution_count": null,
      "outputs": []
    },
    {
      "cell_type": "code",
      "metadata": {
        "id": "eESuuEgpZz5w"
      },
      "source": [
        "def encoder_block(inputs,n_filter,pool_size,dropout):\n",
        "  f=conv2d_block(input_tensor=inputs,n_filters=n_filter)\n",
        "  p=tf.keras.layers.MaxPooling2D(pool_size)(f)\n",
        "  p=tf.keras.layers.Dropout(dropout)(p)\n",
        "  return f,p"
      ],
      "execution_count": null,
      "outputs": []
    },
    {
      "cell_type": "code",
      "metadata": {
        "id": "zd_vZmD0zwE3"
      },
      "source": [
        "def encoder(inputs):\n",
        "  f1,p1=encoder_block(inputs,n_filter=64,pool_size=(2,2),dropout=0.3)\n",
        "  f2,p2=encoder_block(p1,n_filter=128,pool_size=(2,2),dropout=0.3)\n",
        "  f3,p3=encoder_block(p2,n_filter=256,pool_size=(2,2),dropout=0.3)\n",
        "  f4,p4=encoder_block(p3,n_filter=512,pool_size=(2,2),dropout=0.3)\n",
        "  return p4,(f1,f2,f3,f4)"
      ],
      "execution_count": null,
      "outputs": []
    },
    {
      "cell_type": "code",
      "metadata": {
        "id": "srWpJGHP5nRi"
      },
      "source": [
        "def bottleneck(inputs):\n",
        "  bottle_neck=conv2d_block(inputs,n_filters=1024)\n",
        "  return bottle_neck"
      ],
      "execution_count": null,
      "outputs": []
    },
    {
      "cell_type": "code",
      "metadata": {
        "id": "4lwFS9RU58zn"
      },
      "source": [
        "def decoder_block(inputs,conv_output,n_filter,kernel_size,strides,dropout):\n",
        "  u=tf.keras.layers.Conv2DTranspose(n_filter,kernel_size,strides=strides,padding='same')(inputs)\n",
        "  c=tf.keras.layers.concatenate([u,conv_output])\n",
        "  c = tf.keras.layers.Dropout(dropout)(c)\n",
        "  c=conv2d_block(c,n_filter,kernel_size=3)\n",
        "  return c"
      ],
      "execution_count": null,
      "outputs": []
    },
    {
      "cell_type": "code",
      "metadata": {
        "id": "LKdNW7lP6N2A"
      },
      "source": [
        "def decoder(inputs,convs):\n",
        "  f1,f2,f3,f4=convs\n",
        "  c6=decoder_block(inputs,f4,n_filter=512,kernel_size=(3,3),strides=(2,2),dropout=0.3)\n",
        "  c7=decoder_block(c6,f3,n_filter=256,kernel_size=(3,3),strides=(2,2),dropout=0.3)\n",
        "  c8=decoder_block(c7,f2,n_filter=128,kernel_size=(3,3),strides=(2,2),dropout=0.3)\n",
        "  c9=decoder_block(c8,f1,n_filter=64,kernel_size=(3,3),strides=(2,2),dropout=0.3)\n",
        "  outputs=tf.keras.layers.Conv2D(1,kernel_size=(1,1),activation='relu')(c9)\n",
        "  return outputs"
      ],
      "execution_count": null,
      "outputs": []
    },
    {
      "cell_type": "code",
      "metadata": {
        "id": "GKUvtKfk6ULr"
      },
      "source": [
        "def unet():\n",
        "  inputs=tf.keras.layers.Input(shape=(80,160,3,))\n",
        "  encoder_output,convs=encoder(inputs)\n",
        "  bottle_neck=bottleneck(encoder_output)\n",
        "  outputs=decoder(bottle_neck,convs)\n",
        "  model=tf.keras.Model(inputs=inputs,outputs=outputs)\n",
        "  return model"
      ],
      "execution_count": null,
      "outputs": []
    },
    {
      "cell_type": "code",
      "metadata": {
        "id": "WOuGAxUX6Y2O"
      },
      "source": [
        ""
      ],
      "execution_count": null,
      "outputs": []
    },
    {
      "cell_type": "code",
      "metadata": {
        "id": "gSZN4nhC9Rrp"
      },
      "source": [
        ""
      ],
      "execution_count": null,
      "outputs": []
    },
    {
      "cell_type": "code",
      "metadata": {
        "id": "rt9JVN1D6b6G"
      },
      "source": [
        ""
      ],
      "execution_count": null,
      "outputs": []
    },
    {
      "cell_type": "code",
      "metadata": {
        "id": "JSl0TFF969Jx"
      },
      "source": [
        ""
      ],
      "execution_count": null,
      "outputs": []
    },
    {
      "cell_type": "code",
      "metadata": {
        "id": "m1e0FP9V7MO4"
      },
      "source": [
        ""
      ],
      "execution_count": null,
      "outputs": []
    },
    {
      "cell_type": "code",
      "metadata": {
        "id": "MkY03-jM7TF6"
      },
      "source": [
        ""
      ],
      "execution_count": null,
      "outputs": []
    },
    {
      "cell_type": "code",
      "metadata": {
        "id": "Zr0SHG5n3K_d"
      },
      "source": [
        ""
      ],
      "execution_count": null,
      "outputs": []
    },
    {
      "cell_type": "code",
      "metadata": {
        "id": "LORkOe6q8FvD"
      },
      "source": [
        "import shapely"
      ],
      "execution_count": null,
      "outputs": []
    },
    {
      "cell_type": "code",
      "metadata": {
        "id": "wyFl2qEE9ehd"
      },
      "source": [
        "from shapely.wkt import dumps, loads\n",
        "from shapely.geometry import Polygon"
      ],
      "execution_count": null,
      "outputs": []
    },
    {
      "cell_type": "code",
      "metadata": {
        "id": "wUWNIBxu9kt-"
      },
      "source": [
        "POLYGON = Polygon([(1022.975467185924, 739.2521401796066), (1005.679622937569, 747.3688275618451), (999.4269058143009, 744.4378664097038), (998.4499187631066, 741.7023026698211), (987.312266386992, 747.1734301524717), (975.9792166006625, 722.7487538884745), (1022.975464541918, 703.2434419004524), (1022.975467185924, 739.2521401796066)])"
      ],
      "execution_count": null,
      "outputs": []
    },
    {
      "cell_type": "code",
      "metadata": {
        "colab": {
          "base_uri": "https://localhost:8080/",
          "height": 265
        },
        "id": "xO2Wp5t89xLW",
        "outputId": "8c907f18-0eba-432e-cbf7-ae585fc3ee8c"
      },
      "source": [
        "import matplotlib.pyplot as plt\n",
        "x,y = POLYGON.exterior.xy\n",
        "plt.plot(x,y)\n",
        "plt.savefig('/content/drive/MyDrive/plot.png')"
      ],
      "execution_count": null,
      "outputs": [
        {
          "output_type": "display_data",
          "data": {
            "image/png": "[encoded data removed]",
            "text/plain": [
              "<Figure size 432x288 with 1 Axes>"
            ]
          },
          "metadata": {
            "needs_background": "light"
          }
        }
      ]
    },
    {
      "cell_type": "code",
      "metadata": {
        "colab": {
          "base_uri": "https://localhost:8080/"
        },
        "id": "pnuZXkPsBwe-",
        "outputId": "30b74451-eddc-4c5e-a0bb-861f1222e031"
      },
      "source": [
        "print(image_correct)"
      ],
      "execution_count": null,
      "outputs": [
        {
          "output_type": "stream",
          "name": "stdout",
          "text": [
            "[[[  0   0   0]\n",
            "  [  0   0   0]\n",
            "  [  0   0   0]\n",
            "  ...\n",
            "  [  0   0   0]\n",
            "  [  0   0   0]\n",
            "  [  0   0   0]]\n",
            "\n",
            " [[  0   0   0]\n",
            "  [  0   0   0]\n",
            "  [  0   0   0]\n",
            "  ...\n",
            "  [  0   0   0]\n",
            "  [  0   0   0]\n",
            "  [  0   0   0]]\n",
            "\n",
            " [[  0   0   0]\n",
            "  [  0   0   0]\n",
            "  [  0   0   0]\n",
            "  ...\n",
            "  [  0   0   0]\n",
            "  [  0   0   0]\n",
            "  [  0   0   0]]\n",
            "\n",
            " ...\n",
            "\n",
            " [[  0   0   0]\n",
            "  [  0   0   0]\n",
            "  [  0   0   0]\n",
            "  ...\n",
            "  [125 110  89]\n",
            "  [122 108  88]\n",
            "  [115 102  84]]\n",
            "\n",
            " [[  0   0   0]\n",
            "  [  0   0   0]\n",
            "  [  0   0   0]\n",
            "  ...\n",
            "  [122 106  86]\n",
            "  [123 107  87]\n",
            "  [123 107  87]]\n",
            "\n",
            " [[  0   0   0]\n",
            "  [  0   0   0]\n",
            "  [  0   0   0]\n",
            "  ...\n",
            "  [123 105  85]\n",
            "  [122 105  85]\n",
            "  [123 105  86]]]\n"
          ]
        }
      ]
    },
    {
      "cell_type": "code",
      "metadata": {
        "id": "6PPDXLLkD1P7"
      },
      "source": [
        ""
      ],
      "execution_count": null,
      "outputs": []
    },
    {
      "cell_type": "code",
      "metadata": {
        "colab": {
          "base_uri": "https://localhost:8080/"
        },
        "id": "M5hKR0niApkA",
        "outputId": "af79da48-3a4b-4991-aa23-2b1add290718"
      },
      "source": [
        "from PIL import Image\n",
        "\n",
        "background = Image.open(\"/content/drive/MyDrive/distaster.png\")\n",
        "foreground = Image.open(\"/content/drive/MyDrive/plot.png\")\n",
        "\n",
        "img = background.paste(foreground, (0, 0), foreground)\n",
        "print(img)"
      ],
      "execution_count": null,
      "outputs": [
        {
          "output_type": "stream",
          "name": "stdout",
          "text": [
            "None\n"
          ]
        }
      ]
    },
    {
      "cell_type": "code",
      "metadata": {
        "id": "XZecZihy_FMo"
      },
      "source": [
        ""
      ],
      "execution_count": null,
      "outputs": []
    }
  ]
}