{
  "nbformat": 4,
  "nbformat_minor": 0,
  "metadata": {
    "colab": {
      "name": "code_lanenet",
      "provenance": [],
      "collapsed_sections": []
    },
    "kernelspec": {
      "name": "python3",
      "display_name": "Python 3"
    },
    "language_info": {
      "name": "python"
    },
    "accelerator": "GPU"
  },
  "cells": [
    {
      "cell_type": "code",
      "metadata": {
        "id": "BxpCObD-SFnk"
      },
      "source": [
        "import numpy as np\n",
        "import tensorflow as tf\n",
        "import matplotlib.pyplot as plt\n",
        "import numpy as np"
      ],
      "execution_count": null,
      "outputs": []
    },
    {
      "cell_type": "code",
      "metadata": {
        "id": "XiPeJ8u7SI_I"
      },
      "source": [
        "def block1(inputs,filters):\n",
        "  x=inputs\n",
        "  for i in range(2):\n",
        "    x=tf.keras.layers.Conv2D(filters=filters,kernel_size=(3,3),strides=(1,1),padding=\"same\")(x)\n",
        "  return x"
      ],
      "execution_count": null,
      "outputs": []
    },
    {
      "cell_type": "code",
      "metadata": {
        "id": "Li_ftrDhSPqs"
      },
      "source": [
        "def block2(inputs,filters):\n",
        "  x=inputs\n",
        "  for i in range(3):\n",
        "    x=tf.keras.layers.Conv2D(filters=filters,kernel_size=(3,3),strides=(1,1),padding=\"same\")(x)\n",
        "  return x"
      ],
      "execution_count": null,
      "outputs": []
    },
    {
      "cell_type": "code",
      "metadata": {
        "id": "TR1eEwPwSToo"
      },
      "source": [
        "def max_pooling1(inputs,filters):\n",
        "  f=block1(inputs,filters)\n",
        "  p=tf.keras.layers.MaxPooling2D(pool_size=(2,2),strides=(2,2))(f)\n",
        "  return f,p"
      ],
      "execution_count": null,
      "outputs": []
    },
    {
      "cell_type": "code",
      "metadata": {
        "id": "FfJMssqDSWss"
      },
      "source": [
        "def max_pooling2(inputs,filters):\n",
        "  f=block2(inputs,filters)\n",
        "  p=tf.keras.layers.MaxPooling2D(pool_size=(2,2),strides=(2,2))(f)\n",
        "  return f,p"
      ],
      "execution_count": null,
      "outputs": []
    },
    {
      "cell_type": "code",
      "metadata": {
        "id": "lw6j5eYrSaBH"
      },
      "source": [
        "def encoder1(inputs):\n",
        "  f1,p1=max_pooling1(inputs,64)\n",
        "  f2,p2=max_pooling1(p1,128)\n",
        "  f3,p3=max_pooling2(p2,256)\n",
        "  f4,p4=max_pooling2(p3,512)\n",
        "  f5,p5=max_pooling2(p4,512)\n",
        "  #print(p5.shape)\n",
        "  return p5,(f1,f2,f3,f4,f5)"
      ],
      "execution_count": null,
      "outputs": []
    },
    {
      "cell_type": "code",
      "metadata": {
        "id": "GpwbAivqSeyP"
      },
      "source": [
        "def EBS(convs):\n",
        "  f1,f2,f3,f4,f5=convs\n",
        "  x1=tf.keras.layers.MaxPooling2D(pool_size=(8,8),strides=(8,8))(f1)\n",
        "  x1=tf.keras.layers.Conv2D(filters=2,kernel_size=(1,1),strides=(1,1),padding=\"same\")(x1)\n",
        "  x2=tf.keras.layers.MaxPooling2D(pool_size=(4,4),strides=(4,4))(f2)\n",
        "  x2=tf.keras.layers.Conv2D(filters=2,kernel_size=(1,1),strides=(1,1),padding=\"same\")(x2)\n",
        "  x3=tf.keras.layers.MaxPooling2D(pool_size=(2,2),strides=(2,2))(f3)\n",
        "  x3=tf.keras.layers.Conv2D(filters=2,kernel_size=(1,1),strides=(1,1),padding=\"same\")(x3)\n",
        "  x4=tf.keras.layers.MaxPooling2D(pool_size=(2,2),strides=(2,2))(f4)\n",
        "  x4=tf.keras.layers.Conv2D(filters=2,kernel_size=(1,1),strides=(1,1),padding=\"same\")(x4)\n",
        "  x5=tf.keras.layers.Conv2D(filters=2,kernel_size=(1,1),strides=(1,1),padding=\"same\")(f5)\n",
        "  o1=tf.keras.layers.Add()([x1,x2,x3])\n",
        "  o2=tf.keras.layers.Add()([x4,x5])\n",
        "  return o1,o2"
      ],
      "execution_count": null,
      "outputs": []
    },
    {
      "cell_type": "code",
      "metadata": {
        "id": "CRWTeZ96Slop"
      },
      "source": [
        "def RPE(p5):\n",
        "  x1=tf.keras.layers.Conv2DTranspose(filters=6,kernel_size=(4,4),strides=(2,2),padding='same')(p5)\n",
        "  x1=tf.keras.layers.Conv2DTranspose(filters=6,kernel_size=(4,4),strides=(2,2),padding='same')(x1)\n",
        "  x1=tf.keras.layers.Conv2DTranspose(filters=6,kernel_size=(16,16),strides=(8,8),padding='same')(x1)\n",
        "  return x1"
      ],
      "execution_count": null,
      "outputs": []
    },
    {
      "cell_type": "code",
      "metadata": {
        "id": "J2Hn06cySnOh"
      },
      "source": [
        "def enhanced_feature(o1,o2,p5):\n",
        "  map1 = tf.keras.layers.Conv2DTranspose(filters=2,kernel_size=(4,4),strides=(2,2),padding='same')(p5)\n",
        "  out1 = tf.keras.layers.Add()([o2,map1])\n",
        "  map2 = tf.keras.layers.Conv2DTranspose(filters=2,kernel_size=(4,4),strides=(2,2),padding='same')(out1)\n",
        "  out2 = tf.keras.layers.add(([o1,map2]))\n",
        "  map3 = tf.keras.layers.Conv2DTranspose(filters=6,kernel_size=(16,16),strides=(8,8),padding='same')(out2)\n",
        "  return map3"
      ],
      "execution_count": null,
      "outputs": []
    },
    {
      "cell_type": "code",
      "metadata": {
        "id": "esyt5F7DetdC"
      },
      "source": [
        ""
      ],
      "execution_count": null,
      "outputs": []
    },
    {
      "cell_type": "code",
      "metadata": {
        "id": "NK_5zYcYSyYK"
      },
      "source": [
        "from sklearn.cluster import MeanShift\n",
        "#from keras import backend as K\n",
        "import numpy as np\n",
        "def mask(x1,map3):\n",
        "  result=tf.bitwise.bitwise_and(tf.cast(x1, tf.int32),tf.cast(map3, tf.int32))\n",
        "  print(result.shape)\n",
        "  #result = tf.make_ndarray(result)\n",
        "  clustering = MeanShift(bandwidth=2).fit(result)\n",
        "  cluster = clustering.labels_\n",
        "  return result"
      ],
      "execution_count": null,
      "outputs": []
    },
    {
      "cell_type": "code",
      "metadata": {
        "id": "fDllr6DiS9ir"
      },
      "source": [
        "def lanenet():\n",
        "  inputs=tf.keras.layers.Input(shape=(224,224,3,))\n",
        "  p,convs=encoder1(inputs)\n",
        "  o1,o2=EBS(convs)\n",
        "  rpe=RPE(p)\n",
        "  map=enhanced_feature(o1,o2,p)\n",
        "  #cluster=mask(rpe,map)\n",
        "  model1=tf.keras.Model(inputs=inputs,outputs=map)\n",
        "  model2=tf.keras.Model(inputs=inputs,outputs=rpe)\n",
        "  model1.summary()\n",
        "  model2.summary()\n",
        "  return model1,model2"
      ],
      "execution_count": null,
      "outputs": []
    },
    {
      "cell_type": "code",
      "metadata": {
        "colab": {
          "base_uri": "https://localhost:8080/"
        },
        "id": "3sZULcwRfj3a",
        "outputId": "e681bf62-1762-4349-fcc3-c8d95b4b50cf"
      },
      "source": [
        "lanenet()"
      ],
      "execution_count": null,
      "outputs": [
        {
          "output_type": "stream",
          "text": [
            "Model: \"model\"\n",
            "__________________________________________________________________________________________________\n",
            "Layer (type)                    Output Shape         Param #     Connected to                     \n",
            "==================================================================================================\n",
            "input_1 (InputLayer)            [(None, 224, 224, 3) 0                                            \n",
            "__________________________________________________________________________________________________\n",
            "conv2d (Conv2D)                 (None, 224, 224, 64) 1792        input_1[0][0]                    \n",
            "__________________________________________________________________________________________________\n",
            "conv2d_1 (Conv2D)               (None, 224, 224, 64) 36928       conv2d[0][0]                     \n",
            "__________________________________________________________________________________________________\n",
            "max_pooling2d (MaxPooling2D)    (None, 112, 112, 64) 0           conv2d_1[0][0]                   \n",
            "__________________________________________________________________________________________________\n",
            "conv2d_2 (Conv2D)               (None, 112, 112, 128 73856       max_pooling2d[0][0]              \n",
            "__________________________________________________________________________________________________\n",
            "conv2d_3 (Conv2D)               (None, 112, 112, 128 147584      conv2d_2[0][0]                   \n",
            "__________________________________________________________________________________________________\n",
            "max_pooling2d_1 (MaxPooling2D)  (None, 56, 56, 128)  0           conv2d_3[0][0]                   \n",
            "__________________________________________________________________________________________________\n",
            "conv2d_4 (Conv2D)               (None, 56, 56, 256)  295168      max_pooling2d_1[0][0]            \n",
            "__________________________________________________________________________________________________\n",
            "conv2d_5 (Conv2D)               (None, 56, 56, 256)  590080      conv2d_4[0][0]                   \n",
            "__________________________________________________________________________________________________\n",
            "conv2d_6 (Conv2D)               (None, 56, 56, 256)  590080      conv2d_5[0][0]                   \n",
            "__________________________________________________________________________________________________\n",
            "max_pooling2d_2 (MaxPooling2D)  (None, 28, 28, 256)  0           conv2d_6[0][0]                   \n",
            "__________________________________________________________________________________________________\n",
            "conv2d_7 (Conv2D)               (None, 28, 28, 512)  1180160     max_pooling2d_2[0][0]            \n",
            "__________________________________________________________________________________________________\n",
            "conv2d_8 (Conv2D)               (None, 28, 28, 512)  2359808     conv2d_7[0][0]                   \n",
            "__________________________________________________________________________________________________\n",
            "conv2d_9 (Conv2D)               (None, 28, 28, 512)  2359808     conv2d_8[0][0]                   \n",
            "__________________________________________________________________________________________________\n",
            "max_pooling2d_3 (MaxPooling2D)  (None, 14, 14, 512)  0           conv2d_9[0][0]                   \n",
            "__________________________________________________________________________________________________\n",
            "conv2d_10 (Conv2D)              (None, 14, 14, 512)  2359808     max_pooling2d_3[0][0]            \n",
            "__________________________________________________________________________________________________\n",
            "conv2d_11 (Conv2D)              (None, 14, 14, 512)  2359808     conv2d_10[0][0]                  \n",
            "__________________________________________________________________________________________________\n",
            "max_pooling2d_8 (MaxPooling2D)  (None, 14, 14, 512)  0           conv2d_9[0][0]                   \n",
            "__________________________________________________________________________________________________\n",
            "conv2d_12 (Conv2D)              (None, 14, 14, 512)  2359808     conv2d_11[0][0]                  \n",
            "__________________________________________________________________________________________________\n",
            "conv2d_16 (Conv2D)              (None, 14, 14, 2)    1026        max_pooling2d_8[0][0]            \n",
            "__________________________________________________________________________________________________\n",
            "conv2d_17 (Conv2D)              (None, 14, 14, 2)    1026        conv2d_12[0][0]                  \n",
            "__________________________________________________________________________________________________\n",
            "max_pooling2d_4 (MaxPooling2D)  (None, 7, 7, 512)    0           conv2d_12[0][0]                  \n",
            "__________________________________________________________________________________________________\n",
            "max_pooling2d_5 (MaxPooling2D)  (None, 28, 28, 64)   0           conv2d_1[0][0]                   \n",
            "__________________________________________________________________________________________________\n",
            "max_pooling2d_6 (MaxPooling2D)  (None, 28, 28, 128)  0           conv2d_3[0][0]                   \n",
            "__________________________________________________________________________________________________\n",
            "max_pooling2d_7 (MaxPooling2D)  (None, 28, 28, 256)  0           conv2d_6[0][0]                   \n",
            "__________________________________________________________________________________________________\n",
            "add_1 (Add)                     (None, 14, 14, 2)    0           conv2d_16[0][0]                  \n",
            "                                                                 conv2d_17[0][0]                  \n",
            "__________________________________________________________________________________________________\n",
            "conv2d_transpose_3 (Conv2DTrans (None, 14, 14, 2)    16386       max_pooling2d_4[0][0]            \n",
            "__________________________________________________________________________________________________\n",
            "conv2d_13 (Conv2D)              (None, 28, 28, 2)    130         max_pooling2d_5[0][0]            \n",
            "__________________________________________________________________________________________________\n",
            "conv2d_14 (Conv2D)              (None, 28, 28, 2)    258         max_pooling2d_6[0][0]            \n",
            "__________________________________________________________________________________________________\n",
            "conv2d_15 (Conv2D)              (None, 28, 28, 2)    514         max_pooling2d_7[0][0]            \n",
            "__________________________________________________________________________________________________\n",
            "add_2 (Add)                     (None, 14, 14, 2)    0           add_1[0][0]                      \n",
            "                                                                 conv2d_transpose_3[0][0]         \n",
            "__________________________________________________________________________________________________\n",
            "add (Add)                       (None, 28, 28, 2)    0           conv2d_13[0][0]                  \n",
            "                                                                 conv2d_14[0][0]                  \n",
            "                                                                 conv2d_15[0][0]                  \n",
            "__________________________________________________________________________________________________\n",
            "conv2d_transpose_4 (Conv2DTrans (None, 28, 28, 2)    66          add_2[0][0]                      \n",
            "__________________________________________________________________________________________________\n",
            "add_3 (Add)                     (None, 28, 28, 2)    0           add[0][0]                        \n",
            "                                                                 conv2d_transpose_4[0][0]         \n",
            "__________________________________________________________________________________________________\n",
            "conv2d_transpose_5 (Conv2DTrans (None, 224, 224, 6)  3078        add_3[0][0]                      \n",
            "==================================================================================================\n",
            "Total params: 14,737,172\n",
            "Trainable params: 14,737,172\n",
            "Non-trainable params: 0\n",
            "__________________________________________________________________________________________________\n",
            "Model: \"model_1\"\n",
            "_________________________________________________________________\n",
            "Layer (type)                 Output Shape              Param #   \n",
            "=================================================================\n",
            "input_1 (InputLayer)         [(None, 224, 224, 3)]     0         \n",
            "_________________________________________________________________\n",
            "conv2d (Conv2D)              (None, 224, 224, 64)      1792      \n",
            "_________________________________________________________________\n",
            "conv2d_1 (Conv2D)            (None, 224, 224, 64)      36928     \n",
            "_________________________________________________________________\n",
            "max_pooling2d (MaxPooling2D) (None, 112, 112, 64)      0         \n",
            "_________________________________________________________________\n",
            "conv2d_2 (Conv2D)            (None, 112, 112, 128)     73856     \n",
            "_________________________________________________________________\n",
            "conv2d_3 (Conv2D)            (None, 112, 112, 128)     147584    \n",
            "_________________________________________________________________\n",
            "max_pooling2d_1 (MaxPooling2 (None, 56, 56, 128)       0         \n",
            "_________________________________________________________________\n",
            "conv2d_4 (Conv2D)            (None, 56, 56, 256)       295168    \n",
            "_________________________________________________________________\n",
            "conv2d_5 (Conv2D)            (None, 56, 56, 256)       590080    \n",
            "_________________________________________________________________\n",
            "conv2d_6 (Conv2D)            (None, 56, 56, 256)       590080    \n",
            "_________________________________________________________________\n",
            "max_pooling2d_2 (MaxPooling2 (None, 28, 28, 256)       0         \n",
            "_________________________________________________________________\n",
            "conv2d_7 (Conv2D)            (None, 28, 28, 512)       1180160   \n",
            "_________________________________________________________________\n",
            "conv2d_8 (Conv2D)            (None, 28, 28, 512)       2359808   \n",
            "_________________________________________________________________\n",
            "conv2d_9 (Conv2D)            (None, 28, 28, 512)       2359808   \n",
            "_________________________________________________________________\n",
            "max_pooling2d_3 (MaxPooling2 (None, 14, 14, 512)       0         \n",
            "_________________________________________________________________\n",
            "conv2d_10 (Conv2D)           (None, 14, 14, 512)       2359808   \n",
            "_________________________________________________________________\n",
            "conv2d_11 (Conv2D)           (None, 14, 14, 512)       2359808   \n",
            "_________________________________________________________________\n",
            "conv2d_12 (Conv2D)           (None, 14, 14, 512)       2359808   \n",
            "_________________________________________________________________\n",
            "max_pooling2d_4 (MaxPooling2 (None, 7, 7, 512)         0         \n",
            "_________________________________________________________________\n",
            "conv2d_transpose (Conv2DTran (None, 14, 14, 6)         49158     \n",
            "_________________________________________________________________\n",
            "conv2d_transpose_1 (Conv2DTr (None, 28, 28, 6)         582       \n",
            "_________________________________________________________________\n",
            "conv2d_transpose_2 (Conv2DTr (None, 224, 224, 6)       9222      \n",
            "=================================================================\n",
            "Total params: 14,773,650\n",
            "Trainable params: 14,773,650\n",
            "Non-trainable params: 0\n",
            "_________________________________________________________________\n"
          ],
          "name": "stdout"
        },
        {
          "output_type": "execute_result",
          "data": {
            "text/plain": [
              "(<tensorflow.python.keras.engine.functional.Functional at 0x7fd5d0b33590>,\n",
              " <tensorflow.python.keras.engine.functional.Functional at 0x7fd5d0b1b7d0>)"
            ]
          },
          "metadata": {
            "tags": []
          },
          "execution_count": 24
        }
      ]
    },
    {
      "cell_type": "code",
      "metadata": {
        "id": "SF84E8Z-TDVT"
      },
      "source": [
        "def main():\n",
        "  model1,model2=lanenet()\n",
        "  model1.compile(optimizer=tf.keras.optimizers.Adam(5e-4),loss='binary_crossentropy',metrics=['accuracy'])\n",
        "  model2.compile(optimizer=tf.keras.optimizers.Adam(5e-4), loss=tf.keras.regularizers.L1L2(l1=0.0,l2=0.0),metrics=['accuracy'])\n",
        "  model1.fit()\n",
        "  model2.fit()\n",
        "  model1.summary()\n",
        "  model2.summary()"
      ],
      "execution_count": null,
      "outputs": []
    },
    {
      "cell_type": "code",
      "metadata": {
        "id": "Ommz6kp7ftlx"
      },
      "source": [
        "tf.compat.v1.enable_eager_execution()"
      ],
      "execution_count": null,
      "outputs": []
    },
    {
      "cell_type": "code",
      "metadata": {
        "id": "bUl2hFlkTbiR"
      },
      "source": [
        ""
      ],
      "execution_count": null,
      "outputs": []
    }
  ]
}