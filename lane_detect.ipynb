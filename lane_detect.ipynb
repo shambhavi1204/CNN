{
  "nbformat": 4,
  "nbformat_minor": 0,
  "metadata": {
    "colab": {
      "name": "lane detect.ipynb",
      "provenance": []
    },
    "kernelspec": {
      "name": "python3",
      "display_name": "Python 3"
    },
    "language_info": {
      "name": "python"
    }
  },
  "cells": [
    {
      "cell_type": "code",
      "execution_count": null,
      "metadata": {
        "id": "snbe33lCJGl1"
      },
      "outputs": [],
      "source": [
        "import numpy as np\n",
        "import pickle\n",
        "from sklearn.utils import shuffle\n",
        "from sklearn.model_selection import train_test_split\n",
        "from keras.models import Sequential\n",
        "from keras.layers import Activation, Dropout, UpSampling2D\n",
        "from keras.layers import Conv2DTranspose, Conv2D, MaxPooling2D\n",
        "from keras.layers.normalization import BatchNormalization\n",
        "from keras.preprocessing.image import ImageDataGenerator\n",
        "from keras import regularizers\n",
        "import tensorflow as tf\n",
        "import matplotlib.pyplot as plt\n",
        "import numpy as np"
      ]
    },
    {
      "cell_type": "code",
      "source": [
        "def conv2d_block(input_tensor,n_filters,kernel_size=3):\n",
        "  x=input_tensor\n",
        "  for i in range(2):\n",
        "    x=tf.keras.layers.Conv2D(filters=n_filters,kernel_size=(kernel_size,kernel_size),padding='same')(x)\n",
        "    x=tf.keras.layers.Activation('relu')(x)\n",
        "  return x\n",
        "def encoder_block(inputs,n_filter,pool_size,dropout):\n",
        "  f=conv2d_block(input_tensor=inputs,n_filters=n_filter)\n",
        "  p=tf.keras.layers.MaxPooling2D(pool_size)(f)\n",
        "  p=tf.keras.layers.Dropout(dropout)(p)\n",
        "  return f,p\n",
        "def encoder(inputs):\n",
        "  f1,p1=encoder_block(inputs,n_filter=64,pool_size=(2,2),dropout=0.3)\n",
        "  f2,p2=encoder_block(p1,n_filter=128,pool_size=(2,2),dropout=0.3)\n",
        "  f3,p3=encoder_block(p2,n_filter=256,pool_size=(2,2),dropout=0.3)\n",
        "  f4,p4=encoder_block(p3,n_filter=512,pool_size=(2,2),dropout=0.3)\n",
        "  return p4,(f1,f2,f3,f4)"
      ],
      "metadata": {
        "id": "vkC2H5O0JJwX"
      },
      "execution_count": null,
      "outputs": []
    },
    {
      "cell_type": "code",
      "source": [
        "def bottleneck(inputs):\n",
        "  bottle_neck=conv2d_block(inputs,n_filters=1024)\n",
        "  return bottle_neck\n",
        "def decoder_block(inputs,conv_output,n_filter,kernel_size,strides,dropout):\n",
        "  u=tf.keras.layers.Conv2DTranspose(n_filter,kernel_size,strides=strides,padding='same')(inputs)\n",
        "  c=tf.keras.layers.concatenate([u,conv_output])\n",
        "  c = tf.keras.layers.Dropout(dropout)(c)\n",
        "  c=conv2d_block(c,n_filter,kernel_size=3)\n",
        "  return c\n",
        "def decoder(inputs,convs):\n",
        "  f1,f2,f3,f4=convs\n",
        "  c6=decoder_block(inputs,f4,n_filter=512,kernel_size=(3,3),strides=(2,2),dropout=0.3)\n",
        "  c7=decoder_block(c6,f3,n_filter=256,kernel_size=(3,3),strides=(2,2),dropout=0.3)\n",
        "  c8=decoder_block(c7,f2,n_filter=128,kernel_size=(3,3),strides=(2,2),dropout=0.3)\n",
        "  c9=decoder_block(c8,f1,n_filter=64,kernel_size=(3,3),strides=(2,2),dropout=0.3)\n",
        "  outputs=tf.keras.layers.Conv2D(1,kernel_size=(1,1),activation='relu')(c9)\n",
        "  return outputs"
      ],
      "metadata": {
        "id": "b5Z2_w-LJP_2"
      },
      "execution_count": null,
      "outputs": []
    },
    {
      "cell_type": "code",
      "source": [
        "def unet():\n",
        "  inputs=tf.keras.layers.Input(shape=(80,160,3,))\n",
        "  encoder_output,convs=encoder(inputs)\n",
        "  bottle_neck=bottleneck(encoder_output)\n",
        "  outputs=decoder(bottle_neck,convs)\n",
        "  model=tf.keras.Model(inputs=inputs,outputs=outputs)\n",
        "  return model\n",
        "def main():\n",
        "  train_images=np.asarray(pickle.load(open(\"/content/full_CNN_train.p\",\"rb\")),dtype=np.float32)\n",
        "  labels = np.asarray(pickle.load(open(\"/content/full_CNN_labels (1).p\", \"rb\" )),dtype=np.float32)\n",
        "  train_images=train_images/255.0\n",
        "  labels=labels\n",
        "  train_images, labels = shuffle(train_images, labels)\n",
        "  X_train, X_val, y_train, y_val = train_test_split(train_images, labels, test_size=0.3)\n",
        "  model = unet()\n",
        "  model.compile(optimizer='Adam', loss='mse',metrics=['accuracy'])\n",
        "  model.fit(X_train,y_train,epochs=20,validation_data=(X_val, y_val))\n",
        "  model.save('full_CNN_model.h5')\n",
        "  model.summary()\n",
        "if __name__ == '__main__':\n",
        "  main()"
      ],
      "metadata": {
        "id": "QK6lJMaYJXTT"
      },
      "execution_count": null,
      "outputs": []
    }
  ]
}