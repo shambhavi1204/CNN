{
  "nbformat": 4,
  "nbformat_minor": 0,
  "metadata": {
    "colab": {
      "name": "pytorch.ipynb",
      "provenance": []
    },
    "kernelspec": {
      "name": "python3",
      "display_name": "Python 3"
    },
    "language_info": {
      "name": "python"
    }
  },
  "cells": [
    {
      "cell_type": "code",
      "execution_count": null,
      "metadata": {
        "id": "7EKovDDccwAz"
      },
      "outputs": [],
      "source": [
        "import torch\n",
        "import torch.nn as nn\n",
        "import torch.optim as optim\n",
        "import torchvision\n",
        "import torchvision.datasets as datasets\n",
        "from torch.utils.data import DataLoader\n",
        "import torchvision.transforms as transforms\n",
        "from torch.utils.tensorboard import SummaryWriter"
      ]
    },
    {
      "cell_type": "code",
      "source": [
        "\n",
        "\n",
        "class Discriminator(nn.Module):\n",
        "  def __init__(self, img_dim):\n",
        "      super().__init__()\n",
        "      self.disc = nn.Sequential(\n",
        "          nn.Linear(img_dim, 128),\n",
        "          nn.LeakyReLU(0.1),\n",
        "          nn.Linear(128,1),\n",
        "          nn.Sigmoid(),\n",
        "      )\n",
        "      "
      ],
      "metadata": {
        "id": "qlSecEhjd08k"
      },
      "execution_count": null,
      "outputs": []
    },
    {
      "cell_type": "code",
      "source": [
        "def forward(self, x):\n",
        "  return self.disc(x)"
      ],
      "metadata": {
        "id": "FmUStyPCgCuk"
      },
      "execution_count": null,
      "outputs": []
    },
    {
      "cell_type": "code",
      "source": [
        "class generator(nn.Module):\n",
        "  def __init__(self, z_dim, img_dim):\n",
        "      super().__init__()\n",
        "      self.gen = nn.Sequential(\n",
        "          nn.Linear(z_dim,256),\n",
        "          nn,LeakyRelu(0.1),\n",
        "          nn.Linear(256,img_dim),\n",
        "          nn.tanh()\n",
        "      )"
      ],
      "metadata": {
        "id": "Vh5qLoIIgQsY"
      },
      "execution_count": null,
      "outputs": []
    },
    {
      "cell_type": "code",
      "source": [
        "def forward(self,x):\n",
        "  return self.gen(x)"
      ],
      "metadata": {
        "id": "AdtXotKmidvp"
      },
      "execution_count": null,
      "outputs": []
    },
    {
      "cell_type": "code",
      "source": [
        "\n",
        "device = \"cuda\" if torch.cuda.is_available() else \"cpu\""
      ],
      "metadata": {
        "id": "gPoHbiqmimS-"
      },
      "execution_count": null,
      "outputs": []
    },
    {
      "cell_type": "code",
      "source": [
        "lr = 3e-4\n",
        "z_dim = 64\n",
        "img_dim = 28*28*1\n",
        "batch_size = 32\n",
        "num_epochs = 50\n",
        "\n",
        "\n"
      ],
      "metadata": {
        "id": "0EUb8D-WjW8v"
      },
      "execution_count": null,
      "outputs": []
    },
    {
      "cell_type": "code",
      "source": [
        "disc = Discriminator(img_dim).to(device)\n",
        "gen = generator(z_dim, img_dim).to(device)\n",
        "fixed_noice = torch.randn(batch_size, z_dim).to(device)\n",
        "transforms = transforms.Compose(\n",
        "    [transforms.ToTensor, transforms.Normalize((0.1307),(0.3081))]\n",
        ")\n"
      ],
      "metadata": {
        "id": "42QRibFDlYrH"
      },
      "execution_count": null,
      "outputs": []
    },
    {
      "cell_type": "code",
      "source": [
        "dataset = datasets.MNIST(root= \"dataset/\", transform = transforms, download = True)\n",
        "loader = DataLoader(dataset, batch_size = batch_size, shuffle = True)\n",
        "opt_disc = optim.Adam(disc.parameters(), lr=lr)\n",
        "opt_gen = optim.Adam(gen.parameters(), lr=lr)\n",
        "criterion = nn.BCELoss()\n",
        "\n",
        "writer_fake = SummaryWriter(f\"runs/GAN_MNIST/fake\")\n",
        "writer_real = SummaryWriter(f\"runs/GAN_MNIST/real\")\n",
        "\n"
      ],
      "metadata": {
        "id": "n5BoxWVgnfTc"
      },
      "execution_count": null,
      "outputs": []
    },
    {
      "cell_type": "code",
      "source": [
        "step = 0\n",
        "\n",
        "for epoch in range(num_epochs):\n",
        "  for batch_idx, (real, ) in enumerate(loader):\n",
        "    real = real.view(-1, 784).to(device)\n",
        "    batch_size = real.shape[0]\n",
        "\n",
        "    noise = torch.randn(batch_size, z_dim).to(device)\n",
        "    fake = gen(noise)\n",
        "    disc_real = disc(real),view(-1)\n",
        "    lossD_real = criterion(disc_real, torch.once_like(disc_real))\n"
      ],
      "metadata": {
        "id": "T-V7teLgALcq"
      },
      "execution_count": null,
      "outputs": []
    }
  ]
}